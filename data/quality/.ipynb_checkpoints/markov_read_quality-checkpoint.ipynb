{
 "cells": [
  {
   "cell_type": "code",
   "execution_count": 2,
   "metadata": {},
   "outputs": [],
   "source": [
    "import pickle"
   ]
  },
  {
   "cell_type": "code",
   "execution_count": null,
   "metadata": {},
   "outputs": [],
   "source": [
    "forward = \"r1.fq\"\n",
    "reverse = \"r2.fq\""
   ]
  },
  {
   "cell_type": "markdown",
   "metadata": {},
   "source": [
    "## Pickling qualities"
   ]
  },
  {
   "cell_type": "code",
   "execution_count": 5,
   "metadata": {},
   "outputs": [],
   "source": [
    "qualities = []\n",
    "with open(forward,\"r\") as f:\n",
    "    qual = False\n",
    "    for line in f: \n",
    "        if line[0] == \"+\":\n",
    "            qual = True\n",
    "            continue\n",
    "        elif qual == True:\n",
    "            line = line.rstrip()\n",
    "            qualities.append(line)\n",
    "            qual = False\n",
    "pickle.dump(qualities, open('fwd_qual.p','wb'))"
   ]
  },
  {
   "cell_type": "code",
   "execution_count": 6,
   "metadata": {},
   "outputs": [],
   "source": [
    "qualities = []\n",
    "with open(reverse,\"r\") as f:\n",
    "    qual = False\n",
    "    for line in f: \n",
    "        if line[0] == \"+\":\n",
    "            qual = True\n",
    "            continue\n",
    "        elif qual == True:\n",
    "            line = line.rstrip()\n",
    "            qualities.append(line)\n",
    "            qual = False\n",
    "pickle.dump(qualities, open('rev_qual.p','wb'))"
   ]
  },
  {
   "cell_type": "markdown",
   "metadata": {},
   "source": []
  },
  {
   "cell_type": "code",
   "execution_count": 4,
   "metadata": {},
   "outputs": [],
   "source": []
  }
 ],
 "metadata": {
  "kernelspec": {
   "display_name": "Python 3",
   "language": "python",
   "name": "python3"
  },
  "language_info": {
   "codemirror_mode": {
    "name": "ipython",
    "version": 3
   },
   "file_extension": ".py",
   "mimetype": "text/x-python",
   "name": "python",
   "nbconvert_exporter": "python",
   "pygments_lexer": "ipython3",
   "version": "3.6.6"
  }
 },
 "nbformat": 4,
 "nbformat_minor": 2
}
