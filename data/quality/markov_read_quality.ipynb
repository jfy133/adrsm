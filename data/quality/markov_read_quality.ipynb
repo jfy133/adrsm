{
 "cells": [
  {
   "cell_type": "code",
   "execution_count": 33,
   "metadata": {},
   "outputs": [],
   "source": [
    "import pickle"
   ]
  },
  {
   "cell_type": "markdown",
   "metadata": {},
   "source": [
    "### Anonymising fastq file"
   ]
  },
  {
   "cell_type": "code",
   "execution_count": 36,
   "metadata": {},
   "outputs": [],
   "source": [
    "forward = \"test.1.fq\"\n",
    "reverse = \"test.2.fq\""
   ]
  },
  {
   "cell_type": "code",
   "execution_count": 37,
   "metadata": {},
   "outputs": [],
   "source": [
    "def replace_seqs(seq):\n",
    "    return(\"N\"*len(seq))\n",
    "\n",
    "def read_fq(fastq, machine = \"@HISEQ\"):\n",
    "    with open(fastq,\"r\") as fq:\n",
    "        reads = {}\n",
    "        for line in fq:\n",
    "            if line.startswith(machine):\n",
    "                read_name = line.rstrip()\n",
    "                reads[read_name] = []\n",
    "                continue\n",
    "            else:\n",
    "                reads[read_name].append(line.rstrip())\n",
    "    return(reads)"
   ]
  },
  {
   "cell_type": "code",
   "execution_count": 38,
   "metadata": {},
   "outputs": [],
   "source": [
    "fwd_anon = \"r1_anon.fq\"\n",
    "rev_anon = \"r2_anon.fq\""
   ]
  },
  {
   "cell_type": "code",
   "execution_count": 39,
   "metadata": {},
   "outputs": [],
   "source": [
    "fwd = read_fq(forward, machine=\"@HWI-ST1\")\n",
    "rev = read_fq(reverse, machine=\"@HWI-ST1\")"
   ]
  },
  {
   "cell_type": "code",
   "execution_count": 40,
   "metadata": {},
   "outputs": [],
   "source": [
    "with open(fwd_anon, \"w\") as f1:\n",
    "    for akey in fwd.keys():\n",
    "        f1.write(akey+\"\\n\")\n",
    "        f1.write(replace_seqs(fwd[akey][0])+\"\\n\")\n",
    "        f1.write(fwd[akey][1]+\"\\n\")\n",
    "        f1.write(fwd[akey][2]+\"\\n\")"
   ]
  },
  {
   "cell_type": "code",
   "execution_count": 41,
   "metadata": {},
   "outputs": [],
   "source": [
    "with open(rev_anon, \"w\") as f2:\n",
    "    for akey in rev.keys():\n",
    "        f2.write(akey+\"\\n\")\n",
    "        f2.write(replace_seqs(rev[akey][0])+\"\\n\")\n",
    "        f2.write(rev[akey][1]+\"\\n\")\n",
    "        f2.write(rev[akey][2]+\"\\n\")"
   ]
  },
  {
   "cell_type": "markdown",
   "metadata": {},
   "source": [
    "## Pickling qualities"
   ]
  },
  {
   "cell_type": "code",
   "execution_count": 42,
   "metadata": {},
   "outputs": [],
   "source": [
    "qualities = []\n",
    "with open(fwd_anon,\"r\") as f:\n",
    "    qual = False\n",
    "    for line in f: \n",
    "        if line[0] == \"+\":\n",
    "            qual = True\n",
    "            continue\n",
    "        elif qual == True:\n",
    "            line = line.rstrip()\n",
    "            qualities.append(line)\n",
    "            qual = False\n",
    "pickle.dump(qualities, open('fwd_qual.p','wb'))"
   ]
  },
  {
   "cell_type": "code",
   "execution_count": 43,
   "metadata": {},
   "outputs": [],
   "source": [
    "qualities = []\n",
    "with open(rev_anon,\"r\") as f:\n",
    "    qual = False\n",
    "    for line in f: \n",
    "        if line[0] == \"+\":\n",
    "            qual = True\n",
    "            continue\n",
    "        elif qual == True:\n",
    "            line = line.rstrip()\n",
    "            qualities.append(line)\n",
    "            qual = False\n",
    "pickle.dump(qualities, open('rev_qual.p','wb'))"
   ]
  },
  {
   "cell_type": "code",
   "execution_count": 44,
   "metadata": {},
   "outputs": [],
   "source": [
    "def qscore_err(qscore):\n",
    "    res = 10**(qscore/(-10))\n",
    "    return(res)"
   ]
  }
 ],
 "metadata": {
  "kernelspec": {
   "display_name": "Python 3",
   "language": "python",
   "name": "python3"
  },
  "language_info": {
   "codemirror_mode": {
    "name": "ipython",
    "version": 3
   },
   "file_extension": ".py",
   "mimetype": "text/x-python",
   "name": "python",
   "nbconvert_exporter": "python",
   "pygments_lexer": "ipython3",
   "version": "3.6.6"
  }
 },
 "nbformat": 4,
 "nbformat_minor": 2
}
